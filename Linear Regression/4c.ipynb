{
  "nbformat": 4,
  "nbformat_minor": 0,
  "metadata": {
    "colab": {
      "provenance": []
    },
    "kernelspec": {
      "name": "python3",
      "display_name": "Python 3"
    },
    "language_info": {
      "name": "python"
    }
  },
  "cells": [
    {
      "cell_type": "code",
      "execution_count": 7,
      "metadata": {
        "colab": {
          "base_uri": "https://localhost:8080/"
        },
        "id": "Ze2VPTfYpyqy",
        "outputId": "ea3626ec-f8d5-4f68-8260-ead540dc8600"
      },
      "outputs": [
        {
          "output_type": "stream",
          "name": "stdout",
          "text": [
            "Optimal weight vector that is calculated with the analytical form is :  [-0.01519667  0.90056451  0.78629331  0.85104314  1.29889413  0.12989067\n",
            "  1.57224887  0.99869359]\n",
            "Optimal weight vector that is calculated with the analytical form without bias feature is :  [0.92154947 0.80829428 0.87397433 1.3142877  0.13392374 1.59904727\n",
            " 1.02029192]\n"
          ]
        }
      ],
      "source": [
        "import numpy as np\n",
        "import pandas as pd\n",
        "\n",
        "train_data = pd.read_csv(\"concrete/train.csv\",header=None)\n",
        "\n",
        "X = train_data.iloc[:,:-1]\n",
        "Y = train_data.iloc[:,-1]\n",
        "X_train = np.column_stack(([1]*X.shape[0], X))\n",
        "X = np.array(X_train)\n",
        "Y = np.array(Y)\n",
        "\n",
        "print(\"Optimal weight vector that is calculated with the analytical form is : \",np.dot(np.linalg.inv(np.dot(X.T,X)),np.dot(X.T,Y)))\n",
        "\n",
        "\n",
        "\n",
        "X = train_data.iloc[:,:-1]\n",
        "Y = train_data.iloc[:,-1]\n",
        "X = np.array(X)\n",
        "Y = np.array(Y)\n",
        "\n",
        "print(\"Optimal weight vector that is calculated with the analytical form without bias feature is : \",np.dot(np.linalg.inv(np.dot(X.T,X)),np.dot(X.T,Y)))"
      ]
    },
    {
      "cell_type": "code",
      "source": [],
      "metadata": {
        "id": "M8ZQzdnoq8jg"
      },
      "execution_count": null,
      "outputs": []
    }
  ]
}