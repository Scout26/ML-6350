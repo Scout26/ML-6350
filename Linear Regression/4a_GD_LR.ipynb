{
  "nbformat": 4,
  "nbformat_minor": 0,
  "metadata": {
    "colab": {
      "provenance": []
    },
    "kernelspec": {
      "name": "python3",
      "display_name": "Python 3"
    },
    "language_info": {
      "name": "python"
    }
  },
  "cells": [
    {
      "cell_type": "code",
      "source": [
        "import pandas as pd\n",
        "import numpy as np\n",
        "import matplotlib.pyplot as plt\n",
        "# This function allows us to lad and prepare the data.\n",
        "def load_and_prepare_data(filename):\n",
        "    data = pd.read_csv(filename, header=None)\n",
        "    X = data.iloc[:, :-1]\n",
        "    y = data.iloc[:, -1]\n",
        "    X_with_bias = np.column_stack(([1] * X.shape[0], X))\n",
        "    return X_with_bias, np.array(y)\n",
        "# Function to caculateb the gradient\n",
        "def compute_gradient(X, y, weights):\n",
        "    m = len(y)\n",
        "    predictions = np.matmul(X, weights)\n",
        "    error = predictions - y\n",
        "    gradient = (1/m) * np.matmul(X.T, error)\n",
        "    return gradient\n",
        "# Function Compute the cost\n",
        "def compute_cost(X, y, weights):\n",
        "    m = len(y)\n",
        "    predictions = np.matmul(X, weights)\n",
        "    return (1/(2*m)) * np.sum((predictions - y)**2)\n",
        "# Train our Regression Model\n",
        "def train_lms_regression(X, y, learning_rate=0.006, max_iterations=1000, tolerance=1e-6):\n",
        "    m, n = X.shape\n",
        "    weights = np.zeros(n)\n",
        "    training_costs = []  # Track training costs\n",
        "    iteration_data = []  # This list will be used to store iteration details\n",
        "    r = learning_rate\n",
        "\n",
        "    print(\"\\nStarting training with:\")\n",
        "    print(f\"Initial learning rate: {learning_rate}\")\n",
        "    print(f\"Convergence tolerance: {tolerance}\")\n",
        "    print(f\"Max iterations: {max_iterations}\\n\")\n",
        "\n",
        "    for iteration in range(max_iterations):\n",
        "        # Will be used to calculate predictions and current training cost\n",
        "        predictions = np.matmul(X, weights)\n",
        "        current_cost = (1/(2*m)) * np.sum((predictions - y)**2)\n",
        "        training_costs.append(current_cost)\n",
        "\n",
        "        # Compute gradient and update weights\n",
        "        gradient = compute_gradient(X, y, weights)\n",
        "        weights_new = weights - r * gradient\n",
        "\n",
        "        # Calculate weight change\n",
        "        weight_change = np.max(np.abs(weights_new - weights))\n",
        "\n",
        "        # Store the iteration details\n",
        "        iteration_data.append([iteration + 1, current_cost, weight_change, r, np.linalg.norm(gradient)])\n",
        "\n",
        "        # Check for convergence\n",
        "        if weight_change < tolerance:\n",
        "            print(f\"Converged after {iteration + 1} iterations!\")\n",
        "            print(f\"Final training cost: {current_cost:.6f}\")\n",
        "            print(f\"Final weight change: {weight_change}\")\n",
        "            break\n",
        "\n",
        "        # Update weights and learning rate\n",
        "        weights = weights_new\n",
        "        r = r / 2\n",
        "\n",
        "    return weights, training_costs, iteration_data, iteration + 1\n",
        "\n",
        "def plot_training_cost(training_costs):\n",
        "    plt.plot(range(len(training_costs)), training_costs, 'b-', label='Training Cost')\n",
        "    plt.xlabel('Iterations')\n",
        "    plt.ylabel('Cost')\n",
        "    plt.title('Cost Function')\n",
        "    plt.grid(True)\n",
        "    plt.legend()\n",
        "    plt.show()\n",
        "\n",
        "def display_iteration_table(iteration_data):\n",
        "    # Using this to Convert iteration data to a DataFrame for better visualization\n",
        "    iteration_df = pd.DataFrame(iteration_data, columns=['Iteration', 'Training Cost', 'Max Weight Change', 'Learning Rate', 'Gradient Norm'])\n",
        "    print(\"\\nIteration Details:\\n\")\n",
        "    print(iteration_df.to_string(index=False))  # Table Display\n",
        "def main():\n",
        "    # Now we will start to Load and prepare data\n",
        "    print(\"Loading data...\")\n",
        "    X_train, y_train = load_and_prepare_data(\"concrete/train.csv\")\n",
        "    X_test, y_test = load_and_prepare_data(\"concrete/test.csv\")\n",
        "\n",
        "    print(\"\\nTraining model...\")\n",
        "    weights, training_costs, iteration_data, iterations = train_lms_regression(X_train, y_train)\n",
        "\n",
        "    # Print final results\n",
        "    print(\"\\nFinal Results:\")\n",
        "    print(f\"Number of iterations: {iterations}\")\n",
        "    print(f\"Final weights: {weights}\")\n",
        "    print(f\"Final training cost: {training_costs[-1]:.6f}\")\n",
        "\n",
        "    # Let's put the data in a table\n",
        "    display_iteration_table(iteration_data)\n",
        "\n",
        "    # Plot training cost for better visualization\n",
        "    plot_training_cost(training_costs)\n",
        "\n",
        "    # Calculate and print test error\n",
        "    test_cost = compute_cost(X_test, y_test, weights)\n",
        "    print(f\"\\nTest cost: {test_cost:.6f}\")\n",
        "\n",
        "if __name__ == \"__main__\":\n",
        "    main()"
      ],
      "metadata": {
        "colab": {
          "base_uri": "https://localhost:8080/",
          "height": 1000
        },
        "id": "HUsKbLePcqH1",
        "outputId": "d6ef88c8-c219-4839-e9b6-1af08148ecd4"
      },
      "execution_count": null,
      "outputs": [
        {
          "output_type": "stream",
          "name": "stdout",
          "text": [
            "Loading data...\n",
            "\n",
            "Training model...\n",
            "\n",
            "Starting training with:\n",
            "Initial learning rate: 0.006\n",
            "Convergence tolerance: 1e-06\n",
            "Max iterations: 1000\n",
            "\n",
            "Converged after 13 iterations!\n",
            "Final training cost: 0.418327\n",
            "Final weight change: 5.703255530611559e-07\n",
            "\n",
            "Final Results:\n",
            "Number of iterations: 13\n",
            "Final weights: [-6.66849652e-05  1.50591670e-03 -1.90277643e-03 -2.34801774e-03\n",
            "  4.72134287e-03 -6.13752823e-04 -7.35459033e-04  5.54122272e-04]\n",
            "Final training cost: 0.418327\n",
            "\n",
            "Iteration Details:\n",
            "\n",
            " Iteration  Training Cost  Max Weight Change  Learning Rate  Gradient Norm\n",
            "         1       0.421229       2.373925e-03       0.006000       0.495656\n",
            "         2       0.419762       1.177418e-03       0.003000       0.491018\n",
            "         3       0.419040       5.863509e-04       0.001500       0.488734\n",
            "         4       0.418683       2.925894e-04       0.000750       0.487600\n",
            "         5       0.418504       1.461486e-04       0.000375       0.487035\n",
            "         6       0.418415       7.303782e-05       0.000188       0.486753\n",
            "         7       0.418371       3.650980e-05       0.000094       0.486613\n",
            "         8       0.418349       1.825262e-05       0.000047       0.486542\n",
            "         9       0.418338       9.125742e-06       0.000023       0.486507\n",
            "        10       0.418332       4.562729e-06       0.000012       0.486490\n",
            "        11       0.418329       2.281329e-06       0.000006       0.486481\n",
            "        12       0.418328       1.140656e-06       0.000003       0.486476\n",
            "        13       0.418327       5.703256e-07       0.000001       0.486474\n"
          ]
        },
        {
          "output_type": "display_data",
          "data": {
            "text/plain": [
              "<Figure size 640x480 with 1 Axes>"
            ],
            "image/png": "[encoded data removed]"
          },
          "metadata": {}
        },
        {
          "output_type": "stream",
          "name": "stdout",
          "text": [
            "\n",
            "Test cost: 0.579167\n"
          ]
        }
      ]
    },
    {
      "cell_type": "code",
      "source": [],
      "metadata": {
        "id": "rEBmt4dpjAXV"
      },
      "execution_count": null,
      "outputs": []
    }
  ]
}