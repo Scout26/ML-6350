{
  "nbformat": 4,
  "nbformat_minor": 0,
  "metadata": {
    "colab": {
      "provenance": []
    },
    "kernelspec": {
      "name": "python3",
      "display_name": "Python 3"
    },
    "language_info": {
      "name": "python"
    }
  },
  "cells": [
    {
      "cell_type": "code",
      "execution_count": 4,
      "metadata": {
        "colab": {
          "base_uri": "https://localhost:8080/"
        },
        "id": "jw1ByUp0BfWk",
        "outputId": "6ad1dc96-199d-46a4-9c5a-37f017e8c929"
      },
      "outputs": [
        {
          "output_type": "stream",
          "name": "stdout",
          "text": [
            "Loading the data...\n",
            "Preprocessing the data...\n",
            "Training the random forest...\n",
            "Preparing submission file...\n",
            "Submission file 'submission_rf.csv' created successfully.\n"
          ]
        }
      ],
      "source": [
        "import pandas as pd\n",
        "import numpy as np\n",
        "from sklearn.model_selection import train_test_split\n",
        "from sklearn.tree import DecisionTreeClassifier\n",
        "from sklearn.ensemble import RandomForestClassifier\n",
        "from sklearn.preprocessing import LabelEncoder\n",
        "from sklearn.impute import SimpleImputer\n",
        "\n",
        "# Data Preprocessing Functions\n",
        "def preprocess_data(df):\n",
        "    # Replace '?' with NaN for easy handling of missing values\n",
        "    df = df.replace('?', np.nan)\n",
        "\n",
        "    # Impute missing values with the most common value for each column\n",
        "    imputer = SimpleImputer(strategy='most_frequent')\n",
        "    df = pd.DataFrame(imputer.fit_transform(df), columns=df.columns)\n",
        "\n",
        "    # Convert categorical columns to numerical using label encoding\n",
        "    categorical_columns = df.select_dtypes(include=['object']).columns\n",
        "    label_encoders = {col: LabelEncoder().fit(df[col]) for col in categorical_columns}\n",
        "    for column, le in label_encoders.items():\n",
        "        df[column] = le.transform(df[column])\n",
        "\n",
        "    return df\n",
        "\n",
        "def main():\n",
        "    print(\"Loading the data...\")\n",
        "    # Load the data\n",
        "    train_data = pd.read_csv('train_final.csv')\n",
        "    test_data = pd.read_csv('test_final.csv')\n",
        "\n",
        "    print(\"Preprocessing the data...\")\n",
        "    # Preprocess the data\n",
        "    train_data = preprocess_data(train_data)\n",
        "    test_data = preprocess_data(test_data)\n",
        "\n",
        "    # Ensure the target column 'income>50K' is present in the training data\n",
        "    if 'income>50K' not in train_data.columns:\n",
        "        raise KeyError(\"'income>50K' column not found in training data\")\n",
        "\n",
        "    # Split features and target\n",
        "    X_train = train_data.drop(columns='income>50K')\n",
        "    y_train = train_data['income>50K']\n",
        "\n",
        "    # Handle the test data\n",
        "    if 'income>50K' in test_data.columns:\n",
        "        X_test = test_data.drop(columns='income>50K')\n",
        "    else:\n",
        "        X_test = test_data.drop(columns='ID', errors='ignore')\n",
        "\n",
        "    test_ids = test_data.get('ID', pd.Series(dtype='int'))\n",
        "\n",
        "    print(\"Training the random forest...\")\n",
        "    # Train the Random Forest\n",
        "    rf_model = RandomForestClassifier(n_estimators=10, max_depth=10, random_state=0)\n",
        "    rf_model.fit(X_train, y_train)\n",
        "\n",
        "    # Predict probabilities for test data\n",
        "    predictions = rf_model.predict_proba(X_test)[:, 1]  # Probability of class \"income>50K=1\"\n",
        "\n",
        "    print(\"Preparing submission file...\")\n",
        "    # Prepare submission with IDs starting from 1\n",
        "    submission = pd.DataFrame({'ID': test_ids + 1, 'Prediction': predictions})\n",
        "    submission.to_csv('submission_random_forest.csv', index=False)\n",
        "    print(\"Submission file 'submission_rf.csv' created successfully.\")\n",
        "\n",
        "if __name__ == \"__main__\":\n",
        "    main()"
      ]
    },
    {
      "cell_type": "code",
      "source": [],
      "metadata": {
        "id": "1tWwW98bGLWD"
      },
      "execution_count": null,
      "outputs": []
    }
  ]
}