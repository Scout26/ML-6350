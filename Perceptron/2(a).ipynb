{
  "nbformat": 4,
  "nbformat_minor": 0,
  "metadata": {
    "colab": {
      "provenance": []
    },
    "kernelspec": {
      "name": "python3",
      "display_name": "Python 3"
    },
    "language_info": {
      "name": "python"
    }
  },
  "cells": [
    {
      "cell_type": "code",
      "execution_count": 7,
      "metadata": {
        "colab": {
          "base_uri": "https://localhost:8080/"
        },
        "id": "m_AL7aRZRHfL",
        "outputId": "ede92ff4-c422-4da9-b0ec-8263a9c5fc21"
      },
      "outputs": [
        {
          "output_type": "stream",
          "name": "stdout",
          "text": [
            "Learned weight vector is [ 0.054      -0.06357316 -0.04201102 -0.04279789 -0.00682705]\n",
            "Average prediction error: 0.016\n"
          ]
        }
      ],
      "source": [
        "import numpy as np\n",
        "import pandas as pd\n",
        "import math\n",
        "\n",
        "# Here we are reading both our test and train dataset.\n",
        "training_data = pd.read_csv(\"train.csv\", header=None)\n",
        "testing_data = pd.read_csv(\"test.csv\", header=None)\n",
        "\n",
        "# This part will help us to separate features and labels\n",
        "features_train = training_data.iloc[:, :-1]\n",
        "labels_train = training_data.iloc[:, -1]\n",
        "features_train_aug = np.column_stack(([1] * features_train.shape[0], features_train))\n",
        "features_test = testing_data.iloc[:, :-1]\n",
        "features_test_aug = np.column_stack(([1] * features_test.shape[0], features_test))\n",
        "labels_test = testing_data.iloc[:, -1]\n",
        "\n",
        "# Let's set different parameters asked in the question\n",
        "num_samples, num_features = features_train_aug.shape\n",
        "weight_vector = np.zeros(num_features)\n",
        "learning_rate = 0.001\n",
        "iterations = 10\n",
        "features_train_array = np.array(features_train_aug)\n",
        "labels_train_array = np.array(labels_train)\n",
        "\n",
        "# Function for prediction\n",
        "def make_prediction(feature_vector, weight_vector):\n",
        "    return 1 if np.dot(weight_vector.T, feature_vector) > 0 else 0\n",
        "\n",
        "for epoch in range(iterations):\n",
        "    for feature, label in zip(features_train_array, labels_train_array):\n",
        "        prediction = make_prediction(feature, weight_vector)\n",
        "        if prediction == 0 and label == 1:\n",
        "            weight_vector += (learning_rate * feature)\n",
        "        if prediction == 1 and label == 0:\n",
        "            weight_vector -= (learning_rate * feature)\n",
        "\n",
        "# This will help us in calculating the test error.\n",
        "misclassification_count = 0\n",
        "for feature, label in zip(features_test_aug, labels_test):\n",
        "    test_prediction = make_prediction(feature, weight_vector)\n",
        "    if test_prediction != label:\n",
        "        misclassification_count += 1\n",
        "\n",
        "# Final Required Output according to the questions\n",
        "print(\"Learned weight vector is\", weight_vector)\n",
        "print(\"Average prediction error:\", misclassification_count / len(features_test_aug))\n"
      ]
    },
    {
      "cell_type": "code",
      "source": [],
      "metadata": {
        "id": "Xzz9I_QxS0Dw"
      },
      "execution_count": null,
      "outputs": []
    }
  ]
}